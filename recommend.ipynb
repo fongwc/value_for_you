{
 "cells": [
  {
   "cell_type": "code",
   "execution_count": 1,
   "id": "6eb63586-758e-422e-af14-bf4a1de7891b",
   "metadata": {},
   "outputs": [
    {
     "name": "stdout",
     "output_type": "stream",
     "text": [
      "Requirement already satisfied: transformers in c:\\users\\user\\anaconda3\\envs\\huggingface\\lib\\site-packages (4.29.2)\n",
      "Requirement already satisfied: filelock in c:\\users\\user\\anaconda3\\envs\\huggingface\\lib\\site-packages (from transformers) (3.9.0)\n",
      "Requirement already satisfied: huggingface-hub<1.0,>=0.14.1 in c:\\users\\user\\anaconda3\\envs\\huggingface\\lib\\site-packages (from transformers) (0.15.1)\n",
      "Requirement already satisfied: numpy>=1.17 in c:\\users\\user\\anaconda3\\envs\\huggingface\\lib\\site-packages (from transformers) (1.24.3)\n",
      "Requirement already satisfied: packaging>=20.0 in c:\\users\\user\\anaconda3\\envs\\huggingface\\lib\\site-packages (from transformers) (23.0)\n",
      "Requirement already satisfied: pyyaml>=5.1 in c:\\users\\user\\anaconda3\\envs\\huggingface\\lib\\site-packages (from transformers) (6.0)\n",
      "Requirement already satisfied: regex!=2019.12.17 in c:\\users\\user\\anaconda3\\envs\\huggingface\\lib\\site-packages (from transformers) (2022.7.9)\n",
      "Requirement already satisfied: requests in c:\\users\\user\\anaconda3\\envs\\huggingface\\lib\\site-packages (from transformers) (2.31.0)\n",
      "Requirement already satisfied: tokenizers!=0.11.3,<0.14,>=0.11.1 in c:\\users\\user\\anaconda3\\envs\\huggingface\\lib\\site-packages (from transformers) (0.13.2)\n",
      "Requirement already satisfied: tqdm>=4.27 in c:\\users\\user\\anaconda3\\envs\\huggingface\\lib\\site-packages (from transformers) (4.65.0)\n",
      "Requirement already satisfied: fsspec in c:\\users\\user\\anaconda3\\envs\\huggingface\\lib\\site-packages (from huggingface-hub<1.0,>=0.14.1->transformers) (2023.4.0)\n",
      "Requirement already satisfied: typing-extensions>=3.7.4.3 in c:\\users\\user\\anaconda3\\envs\\huggingface\\lib\\site-packages (from huggingface-hub<1.0,>=0.14.1->transformers) (4.7.1)\n",
      "Requirement already satisfied: colorama in c:\\users\\user\\anaconda3\\envs\\huggingface\\lib\\site-packages (from tqdm>=4.27->transformers) (0.4.6)\n",
      "Requirement already satisfied: charset-normalizer<4,>=2 in c:\\users\\user\\anaconda3\\envs\\huggingface\\lib\\site-packages (from requests->transformers) (2.0.4)\n",
      "Requirement already satisfied: idna<4,>=2.5 in c:\\users\\user\\anaconda3\\envs\\huggingface\\lib\\site-packages (from requests->transformers) (3.4)\n",
      "Requirement already satisfied: urllib3<3,>=1.21.1 in c:\\users\\user\\anaconda3\\envs\\huggingface\\lib\\site-packages (from requests->transformers) (1.26.16)\n",
      "Requirement already satisfied: certifi>=2017.4.17 in c:\\users\\user\\anaconda3\\envs\\huggingface\\lib\\site-packages (from requests->transformers) (2023.7.22)\n"
     ]
    },
    {
     "name": "stderr",
     "output_type": "stream",
     "text": [
      "DEPRECATION: textract 1.6.5 has a non-standard dependency specifier extract-msg<=0.29.*. pip 23.3 will enforce this behaviour change. A possible replacement is to upgrade to a newer version of textract or contact the author to suggest that they release a version with a conforming dependency specifiers. Discussion can be found at https://github.com/pypa/pip/issues/12063\n"
     ]
    }
   ],
   "source": [
    "# install HF transformers\n",
    "!pip install transformers"
   ]
  },
  {
   "cell_type": "code",
   "execution_count": 2,
   "id": "5e0d6a8d-a979-48f9-8a93-279581e6f11d",
   "metadata": {},
   "outputs": [
    {
     "name": "stdout",
     "output_type": "stream",
     "text": [
      "Requirement already satisfied: xformers in c:\\users\\user\\anaconda3\\envs\\huggingface\\lib\\site-packages (0.0.20)\n",
      "Requirement already satisfied: numpy in c:\\users\\user\\anaconda3\\envs\\huggingface\\lib\\site-packages (from xformers) (1.24.3)\n",
      "Requirement already satisfied: pyre-extensions==0.0.29 in c:\\users\\user\\anaconda3\\envs\\huggingface\\lib\\site-packages (from xformers) (0.0.29)\n",
      "Requirement already satisfied: torch==2.0.1 in c:\\users\\user\\anaconda3\\envs\\huggingface\\lib\\site-packages (from xformers) (2.0.1)\n",
      "Requirement already satisfied: typing-inspect in c:\\users\\user\\anaconda3\\envs\\huggingface\\lib\\site-packages (from pyre-extensions==0.0.29->xformers) (0.9.0)\n",
      "Requirement already satisfied: typing-extensions in c:\\users\\user\\anaconda3\\envs\\huggingface\\lib\\site-packages (from pyre-extensions==0.0.29->xformers) (4.7.1)\n",
      "Requirement already satisfied: filelock in c:\\users\\user\\anaconda3\\envs\\huggingface\\lib\\site-packages (from torch==2.0.1->xformers) (3.9.0)\n",
      "Requirement already satisfied: sympy in c:\\users\\user\\anaconda3\\envs\\huggingface\\lib\\site-packages (from torch==2.0.1->xformers) (1.11.1)\n",
      "Requirement already satisfied: networkx in c:\\users\\user\\anaconda3\\envs\\huggingface\\lib\\site-packages (from torch==2.0.1->xformers) (3.1)\n",
      "Requirement already satisfied: jinja2 in c:\\users\\user\\anaconda3\\envs\\huggingface\\lib\\site-packages (from torch==2.0.1->xformers) (3.1.2)\n",
      "Requirement already satisfied: MarkupSafe>=2.0 in c:\\users\\user\\anaconda3\\envs\\huggingface\\lib\\site-packages (from jinja2->torch==2.0.1->xformers) (2.1.1)\n",
      "Requirement already satisfied: mpmath>=0.19 in c:\\users\\user\\anaconda3\\envs\\huggingface\\lib\\site-packages (from sympy->torch==2.0.1->xformers) (1.2.1)\n",
      "Requirement already satisfied: mypy-extensions>=0.3.0 in c:\\users\\user\\anaconda3\\envs\\huggingface\\lib\\site-packages (from typing-inspect->pyre-extensions==0.0.29->xformers) (0.4.3)\n"
     ]
    },
    {
     "name": "stderr",
     "output_type": "stream",
     "text": [
      "DEPRECATION: textract 1.6.5 has a non-standard dependency specifier extract-msg<=0.29.*. pip 23.3 will enforce this behaviour change. A possible replacement is to upgrade to a newer version of textract or contact the author to suggest that they release a version with a conforming dependency specifiers. Discussion can be found at https://github.com/pypa/pip/issues/12063\n"
     ]
    }
   ],
   "source": [
    "# uodate the xformers package\n",
    "!pip install -U xformers"
   ]
  },
  {
   "cell_type": "code",
   "execution_count": 3,
   "id": "7b03f353-1735-4d12-a5ea-d74740a0dd84",
   "metadata": {},
   "outputs": [
    {
     "name": "stdout",
     "output_type": "stream",
     "text": [
      "Requirement already satisfied: tabula-py in c:\\users\\user\\anaconda3\\envs\\huggingface\\lib\\site-packages (2.7.0)\n",
      "Requirement already satisfied: pandas>=0.25.3 in c:\\users\\user\\anaconda3\\envs\\huggingface\\lib\\site-packages (from tabula-py) (1.5.3)\n",
      "Requirement already satisfied: numpy in c:\\users\\user\\anaconda3\\envs\\huggingface\\lib\\site-packages (from tabula-py) (1.24.3)\n",
      "Requirement already satisfied: distro in c:\\users\\user\\anaconda3\\envs\\huggingface\\lib\\site-packages (from tabula-py) (1.8.0)\n",
      "Requirement already satisfied: python-dateutil>=2.8.1 in c:\\users\\user\\anaconda3\\envs\\huggingface\\lib\\site-packages (from pandas>=0.25.3->tabula-py) (2.8.2)\n",
      "Requirement already satisfied: pytz>=2020.1 in c:\\users\\user\\anaconda3\\envs\\huggingface\\lib\\site-packages (from pandas>=0.25.3->tabula-py) (2022.7)\n",
      "Requirement already satisfied: six>=1.5 in c:\\users\\user\\anaconda3\\envs\\huggingface\\lib\\site-packages (from python-dateutil>=2.8.1->pandas>=0.25.3->tabula-py) (1.12.0)\n"
     ]
    },
    {
     "name": "stderr",
     "output_type": "stream",
     "text": [
      "DEPRECATION: textract 1.6.5 has a non-standard dependency specifier extract-msg<=0.29.*. pip 23.3 will enforce this behaviour change. A possible replacement is to upgrade to a newer version of textract or contact the author to suggest that they release a version with a conforming dependency specifiers. Discussion can be found at https://github.com/pypa/pip/issues/12063\n"
     ]
    }
   ],
   "source": [
    "# install package to read pdf tabular data\n",
    "!pip install tabula-py"
   ]
  },
  {
   "cell_type": "code",
   "execution_count": 4,
   "id": "0e4f8779-152f-4fe0-8e54-dcb32509457e",
   "metadata": {},
   "outputs": [
    {
     "name": "stdout",
     "output_type": "stream",
     "text": [
      "Requirement already satisfied: pypdf in c:\\users\\user\\anaconda3\\envs\\huggingface\\lib\\site-packages (3.14.0)\n"
     ]
    },
    {
     "name": "stderr",
     "output_type": "stream",
     "text": [
      "DEPRECATION: textract 1.6.5 has a non-standard dependency specifier extract-msg<=0.29.*. pip 23.3 will enforce this behaviour change. A possible replacement is to upgrade to a newer version of textract or contact the author to suggest that they release a version with a conforming dependency specifiers. Discussion can be found at https://github.com/pypa/pip/issues/12063\n"
     ]
    }
   ],
   "source": [
    "# install package to read pdf\n",
    "!pip install pypdf"
   ]
  },
  {
   "cell_type": "code",
   "execution_count": 6,
   "id": "9bbfa3c1-a877-47a7-a5fc-967c19405aca",
   "metadata": {},
   "outputs": [
    {
     "name": "stdout",
     "output_type": "stream",
     "text": [
      "Requirement already satisfied: nltk in c:\\users\\user\\anaconda3\\envs\\huggingface\\lib\\site-packages (3.8.1)\n",
      "Requirement already satisfied: click in c:\\users\\user\\anaconda3\\envs\\huggingface\\lib\\site-packages (from nltk) (8.0.4)\n",
      "Requirement already satisfied: joblib in c:\\users\\user\\anaconda3\\envs\\huggingface\\lib\\site-packages (from nltk) (1.2.0)\n",
      "Requirement already satisfied: regex>=2021.8.3 in c:\\users\\user\\anaconda3\\envs\\huggingface\\lib\\site-packages (from nltk) (2022.7.9)\n",
      "Requirement already satisfied: tqdm in c:\\users\\user\\anaconda3\\envs\\huggingface\\lib\\site-packages (from nltk) (4.65.0)\n",
      "Requirement already satisfied: colorama in c:\\users\\user\\anaconda3\\envs\\huggingface\\lib\\site-packages (from click->nltk) (0.4.6)\n"
     ]
    },
    {
     "name": "stderr",
     "output_type": "stream",
     "text": [
      "DEPRECATION: textract 1.6.5 has a non-standard dependency specifier extract-msg<=0.29.*. pip 23.3 will enforce this behaviour change. A possible replacement is to upgrade to a newer version of textract or contact the author to suggest that they release a version with a conforming dependency specifiers. Discussion can be found at https://github.com/pypa/pip/issues/12063\n"
     ]
    }
   ],
   "source": [
    "# install nltk package\n",
    "!pip install nltk"
   ]
  },
  {
   "cell_type": "code",
   "execution_count": 1,
   "id": "35a4f123-219b-4b6b-821f-5520a2d79151",
   "metadata": {},
   "outputs": [
    {
     "name": "stderr",
     "output_type": "stream",
     "text": [
      "[nltk_data] Downloading package punkt to\n",
      "[nltk_data]     C:\\Users\\User\\AppData\\Roaming\\nltk_data...\n",
      "[nltk_data]   Package punkt is already up-to-date!\n",
      "[nltk_data] Downloading package stopwords to\n",
      "[nltk_data]     C:\\Users\\User\\AppData\\Roaming\\nltk_data...\n",
      "[nltk_data]   Package stopwords is already up-to-date!\n"
     ]
    }
   ],
   "source": [
    "# import relevant packages\n",
    "import tabula\n",
    "import pandas as pd\n",
    "import numpy as np\n",
    "import PyPDF2 \n",
    "from pypdf import PdfReader\n",
    "import textract\n",
    "import nltk\n",
    "nltk.download('punkt')\n",
    "nltk.download('stopwords')\n",
    "from nltk.tokenize import word_tokenize\n",
    "from nltk.corpus import stopwords\n",
    "from transformers import pipeline"
   ]
  },
  {
   "cell_type": "code",
   "execution_count": 2,
   "id": "2fae54f8-2a0f-48a5-9cab-4c5dc37859f7",
   "metadata": {},
   "outputs": [],
   "source": [
    "# create a variable for the file to be loaded\n",
    "file = \"Recommendation Letter-Fong Weng Cheun (signed version).pdf\""
   ]
  },
  {
   "cell_type": "code",
   "execution_count": 3,
   "id": "4a50ad72-f5cd-4167-86b8-418880baf5bf",
   "metadata": {},
   "outputs": [],
   "source": [
    "# write a function to extract text should there be more than 1 page\n",
    "def extract_text_with_pyPDF(pdf_file):\n",
    "    pdf_reader = PdfReader(pdf_file)\n",
    "    raw_text = ''\n",
    "    for i, page in enumerate(pdf_reader.pages):\n",
    "        text = page.extract_text()\n",
    "        if text:\n",
    "            raw_text += text\n",
    "    return raw_text"
   ]
  },
  {
   "cell_type": "code",
   "execution_count": 4,
   "id": "17a13adb-21e1-4a44-b069-a5d60875f475",
   "metadata": {},
   "outputs": [],
   "source": [
    "# run the function and print the result\n",
    "text = extract_text_with_pyPDF(file)"
   ]
  },
  {
   "cell_type": "code",
   "execution_count": 5,
   "id": "344738b9-0ec7-4458-a425-7fc2db628079",
   "metadata": {},
   "outputs": [
    {
     "name": "stdout",
     "output_type": "stream",
     "text": [
      " \n",
      " \n",
      " \n",
      " \n",
      "June 1st, 2023 \n",
      " \n",
      " \n",
      "RECOMMENDATION LETTER FOR MR. FONG  WENG CHEUN  \n",
      " \n",
      "Dear Sir/Madam , \n",
      " \n",
      "We are very pleased to recommendation for Mr. Fong Weng Cheun , who has been an exceptional \n",
      "employee at ERNI Asia Holding Pte. Ltd . / Tyco Electronics Singapore Pte. Ltd. for over four years. \n",
      "After the acquisition of ERNI by TE Connectivity  in early September 2021, we have had the pleasure \n",
      "of working with and supervising Fong and have witnessed his outstanding contributions to the \n",
      "organization  / region. \n",
      " \n",
      "Fong has consistently demonstrated exemplary skills and dedication in his role, delivering remarkable \n",
      "results across various critical projects. Notably, he actively participated in systems migration from \n",
      "NAV 2013 to NAV 2018 and SAP, ensuring a seamless transition and enhancing operational \n",
      "efficiency. The meticulous planning, attention to detail, and ability to collaborate with cross -functional \n",
      "teams were instrumental in the project's success.  \n",
      " \n",
      "Furthermore, Fong played a pivotal role to successfully reduce cost and to improve cash generat ion.  \n",
      "He was key to align to implement TE ’s fina ncial po licies , and c onsistently provide d high quality  \n",
      "information in a timely manner and with minimal supervision.  His strategic insights and proactive \n",
      "approach significantly improved our financial compliance and optimized working capital management.  \n",
      " \n",
      "Additionally, Fong showcased exceptional leadership and adaptability in facilitating smooth business \n",
      "transfers in Japan, K orea, China, and Singapore. His ability to navigate cultural nuances, build strong \n",
      "relationships with stakeholders, resourcefulness and implement effective change management \n",
      "strategies w ere instrumental in achieving successful outcomes.  \n",
      " \n",
      "Aside from technic al expertise, Fong consistently exhibits outstanding professionalism, strong work \n",
      "ethics and exceptional problem -solving abilities. He is an excellent team player and possess es great \n",
      "communication skills, allowing him to effectively collaborate with collea gues at all levels and all \n",
      "functions with in ERNI & TE . \n",
      " \n",
      "As Fong’s function has been fully inte grated to TE Corporate and BU Finance team, we r egretfully \n",
      "could not of fer him an adequate position and have mutually agreed to termina te his employment as \n",
      "of 30 June 2023.  \n",
      " \n",
      "Based on his exceptional performance and remarkable contributions, we  have no hesitation in \n",
      "recommending Fong for any future endeavors. We are confi dent that with h is dedication, expertise, \n",
      "and ability to deliver results Fong will be a valuable asset to any future employer . \n",
      " \n",
      "Should you require any further information or have any questions, please do not hesitate to contact \n",
      "us at the email address/phone number  listed below and we would be more than happy to provide \n",
      "additional insights into Fong 's performance and contributions.  \n",
      " \n",
      "Thank you for considering our r ecommendation. We have no doubt that Fong will continue to excel \n",
      "and make significant contributions wherever his journey leads him .\n"
     ]
    }
   ],
   "source": [
    "# let's have a look at the extracted text\n",
    "print(text[0:3027])"
   ]
  },
  {
   "cell_type": "code",
   "execution_count": 8,
   "id": "48c31296-cfe4-45a1-9ab0-e469ea241c5a",
   "metadata": {},
   "outputs": [],
   "source": [
    "#The word_tokenize() function will break our text phrases into individual words.\n",
    "tokens = word_tokenize(text)\n",
    "#We'll create a new list that contains punctuation we wish to clean.\n",
    "punctuations = ['(',')',';',':','[',']',',']\n",
    "#We initialize the stopwords variable, which is a list of words like \"The,\" \"I,\" \"and,\" etc. that don't hold much value as keywords.\n",
    "stop_words = stopwords.words('english')\n",
    "#We create a list comprehension that only returns a list of words that are NOT IN stop_words and NOT IN punctuations.\n",
    "keywords = [word for word in tokens if not word in stop_words and not word in punctuations]"
   ]
  },
  {
   "cell_type": "code",
   "execution_count": 9,
   "id": "820f934f-a2b6-455a-86b1-d51674280a4b",
   "metadata": {},
   "outputs": [
    {
     "data": {
      "text/plain": [
       "\" \\n \\n \\n \\nJune 1st, 2023 \\n \\n \\nRECOMMENDATION LETTER FOR MR. FONG  WENG CHEUN  \\n \\nDear Sir/Madam , \\n \\nWe are very pleased to recommendation for Mr. Fong Weng Cheun , who has been an exceptional \\nemployee at ERNI Asia Holding Pte. Ltd . / Tyco Electronics Singapore Pte. Ltd. for over four years. \\nAfter the acquisition of ERNI by TE Connectivity  in early September 2021, we have had the pleasure \\nof working with and supervising Fong and have witnessed his outstanding contributions to the \\norganization  / region. \\n \\nFong has consistently demonstrated exemplary skills and dedication in his role, delivering remarkable \\nresults across various critical projects. Notably, he actively participated in systems migration from \\nNAV 2013 to NAV 2018 and SAP, ensuring a seamless transition and enhancing operational \\nefficiency. The meticulous planning, attention to detail, and ability to collaborate with cross -functional \\nteams were instrumental in the project's success.  \\n \\nFurthermore, Fong played a pivotal role to successfully reduce cost and to improve cash generat ion.  \\nHe was key to align to implement TE ’s fina ncial po licies , and c onsistently provide d high quality  \\ninformation in a timely manner and with minimal supervision.  His strategic insights and proactive \\napproach significantly improved our financial compliance and optimized working capital management.  \\n \\nAdditionally, Fong showcased exceptional leadership and adaptability in facilitating smooth business \\ntransfers in Japan, K orea, China, and Singapore. His ability to navigate cultural nuances, build strong \\nrelationships with stakeholders, resourcefulness and implement effective change management \\nstrategies w ere instrumental in achieving successful outcomes.  \\n \\nAside from technic al expertise, Fong consistently exhibits outstanding professionalism, strong work \\nethics and exceptional problem -solving abilities. He is an excellent team player and possess es great \\ncommunication skills, allowing him to effectively collaborate with collea gues at all levels and all \\nfunctions with in ERNI & TE . \\n \\nAs Fong’s function has been fully inte grated to TE Corporate and BU Finance team, we r egretfully \\ncould not of fer him an adequate position and have mutually agreed to termina te his employment as \\nof 30 June 2023.  \\n \\nBased on his exceptional performance and remarkable contributions, we  have no hesitation in \\nrecommending Fong for any future endeavors. We are confi dent that with h is dedication, expertise, \\nand ability to deliver results Fong will be a valuable asset to any future employer . \\n \\nShould you require any further information or have any questions, please do not hesitate to contact \\nus at the email address/phone number  listed below and we would be more than happy to provide \\nadditional insights into Fong 's performance and contributions.  \\n \\nThank you for considering our r ecommendation. We have no doubt that Fong will continue to excel \\nand make significant contributions wherever his journey leads him .\""
      ]
     },
     "execution_count": 9,
     "metadata": {},
     "output_type": "execute_result"
    }
   ],
   "source": [
    "parse_text = text[:3027]\n",
    "parse_text"
   ]
  },
  {
   "cell_type": "code",
   "execution_count": 10,
   "id": "e537f78f-a4bf-437d-ab93-6a146159dddd",
   "metadata": {},
   "outputs": [],
   "source": [
    "# write a fucntion to breakdown the text to smaller chuncks so that they could be applied to the model for the classification / sentiment-analysis task due to size limitation\n",
    "def split_text(text):\n",
    "    max_chunk_size = 512\n",
    "    chunks = []\n",
    "    current_chunk = \"\"\n",
    "    for sentence in text.split(\".\"):\n",
    "        if len(current_chunk) + len(sentence) < max_chunk_size:\n",
    "            current_chunk += sentence + \".\"\n",
    "        else:\n",
    "            chunks.append(current_chunk.strip())\n",
    "            current_chunk = sentence + \".\"\n",
    "    if current_chunk:\n",
    "        chunks.append(current_chunk.strip())\n",
    "    return chunks"
   ]
  },
  {
   "cell_type": "code",
   "execution_count": 11,
   "id": "ee80cf25-c676-4b7b-a9c8-7fe0f43086db",
   "metadata": {},
   "outputs": [],
   "source": [
    "# activate the function to split the extracted text into smaller chunks\n",
    "chunk = split_text(parse_text)"
   ]
  },
  {
   "cell_type": "code",
   "execution_count": 12,
   "id": "57c67f60-b14c-44ad-b025-b4ca013dba4c",
   "metadata": {},
   "outputs": [
    {
     "data": {
      "text/plain": [
       "'June 1st, 2023 \\n \\n \\nRECOMMENDATION LETTER FOR MR. FONG  WENG CHEUN  \\n \\nDear Sir/Madam , \\n \\nWe are very pleased to recommendation for Mr. Fong Weng Cheun , who has been an exceptional \\nemployee at ERNI Asia Holding Pte. Ltd . / Tyco Electronics Singapore Pte. Ltd. for over four years. \\nAfter the acquisition of ERNI by TE Connectivity  in early September 2021, we have had the pleasure \\nof working with and supervising Fong and have witnessed his outstanding contributions to the \\norganization  / region.'"
      ]
     },
     "execution_count": 12,
     "metadata": {},
     "output_type": "execute_result"
    }
   ],
   "source": [
    "# let's have a look at the 1st chunk of the extracted text\n",
    "chunk[0]"
   ]
  },
  {
   "cell_type": "code",
   "execution_count": 13,
   "id": "ebaaa8b6-02be-43df-be51-0ef3cd7054b8",
   "metadata": {},
   "outputs": [
    {
     "name": "stderr",
     "output_type": "stream",
     "text": [
      "WARNING[XFORMERS]: xFormers can't load C++/CUDA extensions. xFormers was built for:\n",
      "    PyTorch 2.0.1+cu118 with CUDA 1108 (you have 2.0.1)\n",
      "    Python  3.10.11 (you have 3.10.12)\n",
      "  Please reinstall xformers (see https://github.com/facebookresearch/xformers#installing-xformers)\n",
      "  Memory-efficient attention, SwiGLU, sparse and more won't be available.\n",
      "  Set XFORMERS_MORE_DETAILS=1 for more details\n"
     ]
    },
    {
     "data": {
      "text/plain": [
       "[{'label': 'POSITIVE', 'score': 0.9997197985649109}]"
      ]
     },
     "execution_count": 13,
     "metadata": {},
     "output_type": "execute_result"
    }
   ],
   "source": [
    "# what's the analysis of this chunk by the model?\n",
    "classifier = pipeline(model=\"distilbert-base-uncased-finetuned-sst-2-english\")\n",
    "classifier(chunk[0])"
   ]
  },
  {
   "cell_type": "markdown",
   "id": "2affa0f0-ef9d-4090-81ba-8628262a3b38",
   "metadata": {},
   "source": [
    "The model is 99.97% confident that this chunk of text exhibits positive sentiment"
   ]
  },
  {
   "cell_type": "code",
   "execution_count": 14,
   "id": "135963f8-2032-4dc3-b262-4a96e1a5c01d",
   "metadata": {},
   "outputs": [
    {
     "name": "stdout",
     "output_type": "stream",
     "text": [
      "[{'label': 'POSITIVE', 'score': 0.9998272061347961}]\n",
      "[{'label': 'POSITIVE', 'score': 0.999442994594574}]\n",
      "[{'label': 'POSITIVE', 'score': 0.9997065663337708}]\n",
      "[{'label': 'POSITIVE', 'score': 0.9998099207878113}]\n",
      "[{'label': 'POSITIVE', 'score': 0.9993143081665039}]\n",
      "[{'label': 'POSITIVE', 'score': 0.9997186064720154}]\n"
     ]
    }
   ],
   "source": [
    "# let's continue the process for the rest\n",
    "print(classifier(chunk[1]))\n",
    "print(classifier(chunk[2]))\n",
    "print(classifier(chunk[3]))\n",
    "print(classifier(chunk[4]))\n",
    "print(classifier(chunk[5]))\n",
    "print(classifier(chunk[6]))"
   ]
  },
  {
   "cell_type": "markdown",
   "id": "937d2338-04e9-4034-8b50-2ea1c2dc360d",
   "metadata": {},
   "source": [
    "Overall, the model analyzed that the recommendation letter exhibits positivity on work performance, with a high confidence score."
   ]
  },
  {
   "cell_type": "code",
   "execution_count": 15,
   "id": "5ffaadf8-66d8-4d87-be03-7faf31c1c836",
   "metadata": {},
   "outputs": [
    {
     "data": {
      "text/plain": [
       "3027"
      ]
     },
     "execution_count": 15,
     "metadata": {},
     "output_type": "execute_result"
    }
   ],
   "source": [
    "# what's the length of the recommendation letter?\n",
    "len(parse_text)"
   ]
  },
  {
   "cell_type": "code",
   "execution_count": 16,
   "id": "e5ed53f1-1877-43f6-99bb-5219b8062648",
   "metadata": {},
   "outputs": [
    {
     "name": "stdout",
     "output_type": "stream",
     "text": [
      "[{'summary_text': ' Fong Weng Cheun has been an exceptional employee at ERNI Asia Holding Pte. Ltd. for over four years . Fong showcased exceptional leadership and adaptability in facilitating smooth business transfers in Japan, K orea, China, and Singapore . He was key to align to implement TE ’s fina ncial po licies , and c onsistently provide d high quality  \\xa0information in a timely manner and with minimal supervision . We have no hesitation in recommending Fong for any future endeavors . We are confi dent that with h is dedication, expertise,  \\xa0 \\xa0 \\xa0 \\xa0 \\xa0 \\xa0 \\xa0 \\xa0and ability to deliver results Fong will be a valuable asset to any future employer .'}]\n"
     ]
    }
   ],
   "source": [
    "# let's summarize to a shorter version\n",
    "summarizer = pipeline(\"summarization\", model=\"sshleifer/distilbart-cnn-12-6\")\n",
    "response = summarizer(parse_text, min_length=100, max_length=250)\n",
    "print(response)"
   ]
  },
  {
   "cell_type": "code",
   "execution_count": null,
   "id": "8e30bc58-cc1c-4a5d-8e21-c29bdc01fb49",
   "metadata": {},
   "outputs": [],
   "source": []
  }
 ],
 "metadata": {
  "kernelspec": {
   "display_name": "hf",
   "language": "python",
   "name": "huggingface"
  },
  "language_info": {
   "codemirror_mode": {
    "name": "ipython",
    "version": 3
   },
   "file_extension": ".py",
   "mimetype": "text/x-python",
   "name": "python",
   "nbconvert_exporter": "python",
   "pygments_lexer": "ipython3",
   "version": "3.10.12"
  }
 },
 "nbformat": 4,
 "nbformat_minor": 5
}
